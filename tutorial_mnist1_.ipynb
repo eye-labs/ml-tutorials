{
 "cells": [
  {
   "cell_type": "code",
   "execution_count": 1,
   "metadata": {},
   "outputs": [],
   "source": [
    "import os\n",
    "import math\n",
    "import pandas as pd\n",
    "import numpy as np\n",
    "import tensorflow as tf\n",
    "import matplotlib.pyplot as plt"
   ]
  },
  {
   "cell_type": "markdown",
   "metadata": {},
   "source": [
    "<strong>There are 2 datasets:</strong><br/>\n",
    "<ol>\n",
    "<li>Training data set,</li>\n",
    "<li>Test data set.</li>\n",
    "</ol>\n",
    "Each of these data sets are .csv files. <br/>\n",
    "Each dataset has 785 columns with a variable number of rows.\n",
    "We shall use the pandas package to read these files. The results are numpy arrays.\n",
    "The training data set has 60,000 test cases and the test data set has 10,000 cases.\n",
    "\n",
    "We shall use the pandas package to read these files. The results are numpy arrays."
   ]
  },
  {
   "cell_type": "code",
   "execution_count": 2,
   "metadata": {},
   "outputs": [],
   "source": [
    "root_dir = \"C:\\\\Apps\\\\Projects\\\\ml\\\\data\\\\mnist\\\\\"\n",
    "training_filename = root_dir + \"mnist_train.csv\"\n",
    "# Use pandas to read csv file\n",
    "tmp=pd.read_csv(training_filename, sep=',', header=None)\n",
    "# Use df.loc to access a group of rows and columns\n",
    "# Use .values to return the numpy representation.\n",
    "\n",
    "# Read the training data set\n",
    "x_train, y_train=tmp.loc[:,1:tmp.shape[1]].values, tmp.loc[:,0].values\n",
    "\n",
    "# Read the test data set\n",
    "test_filename = root_dir + \"mnist_test.csv\"\n",
    "tmp=pd.read_csv(test_filename, sep=',', header=None)\n",
    "x_test, y_test=tmp.loc[:,1:tmp.shape[1]].values, tmp.loc[:,0].values\n",
    "tmp=[]"
   ]
  },
  {
   "cell_type": "code",
   "execution_count": 3,
   "metadata": {},
   "outputs": [
    {
     "name": "stdout",
     "output_type": "stream",
     "text": [
      "(60000, 784)\n",
      "(60000,)\n",
      "(10000, 784)\n",
      "(10000,)\n"
     ]
    }
   ],
   "source": [
    "# Just checking the array dimensions\n",
    "print(x_train.shape)\n",
    "print(y_train.shape)\n",
    "print(x_test.shape)\n",
    "print(y_test.shape)"
   ]
  },
  {
   "cell_type": "code",
   "execution_count": 4,
   "metadata": {},
   "outputs": [
    {
     "name": "stdout",
     "output_type": "stream",
     "text": [
      "[[0 0 0 ... 0 0 0]\n",
      " [0 0 0 ... 0 0 0]\n",
      " [0 0 0 ... 0 0 0]\n",
      " [0 0 0 ... 0 0 0]\n",
      " [0 0 0 ... 0 0 0]]\n",
      "[5 0 4 1 9]\n"
     ]
    }
   ],
   "source": [
    "print(x_train[0:5,:])\n",
    "print(y_train[0:5])"
   ]
  },
  {
   "cell_type": "code",
   "execution_count": 5,
   "metadata": {},
   "outputs": [
    {
     "data": {
      "image/png": "[encoded data removed]",
      "text/plain": [
       "<Figure size 432x288 with 1 Axes>"
      ]
     },
     "metadata": {
      "needs_background": "light"
     },
     "output_type": "display_data"
    },
    {
     "name": "stdout",
     "output_type": "stream",
     "text": [
      "The digit for index 17 is 8\n"
     ]
    }
   ],
   "source": [
    "index=17\n",
    "curr_image=np.resize(x_train[index, :], (28, 28))\n",
    "plt.imshow(curr_image, cmap='Greys_r')\n",
    "plt.show()\n",
    "print(\"The digit for index {0} is {1}\".format(index, y_train[index]))"
   ]
  },
  {
   "cell_type": "code",
   "execution_count": 24,
   "metadata": {},
   "outputs": [],
   "source": [
    "logs_path = 'logging/' # logging path\n",
    "batch_size = 100 # batch size while performing training \n",
    "learning_rate = 0.003 # Learning rate \n",
    "training_epochs = 20 # training epoch\n",
    "display_epoch = 1\n",
    "N1 = 300\n",
    "N2 = 300\n",
    "N3 = 100\n",
    "N4 = 60\n",
    "N5 = 10"
   ]
  },
  {
   "cell_type": "code",
   "execution_count": null,
   "metadata": {},
   "outputs": [],
   "source": [
    "# x = tf.placeholder(dtype=tf.int32, shape=[], name=\"foo1\")       shape takes a single scalar value directly.\n",
    "# y = tf.placeholder(dtype=tf.int32, shape=[None], name=\"foo2\")   shape takes a 1-dim array\n",
    "# z = tf.placeholder(dtype=tf.int32, shape=None, name=\"foo3\")     shape can take in any value "
   ]
  },
  {
   "cell_type": "code",
   "execution_count": 7,
   "metadata": {},
   "outputs": [],
   "source": [
    "X = tf.placeholder(tf.float32, shape=(None, 784), name='X_Vector')\n",
    "XX = tf.reshape(X, [-1, 784])\n",
    "Y_  = tf.placeholder(tf.float32, shape=(None, 10), name='Y_Vector')\n",
    "lr = tf.placeholder(tf.float32)"
   ]
  },
  {
   "cell_type": "code",
   "execution_count": 8,
   "metadata": {},
   "outputs": [
    {
     "name": "stdout",
     "output_type": "stream",
     "text": [
      "(?, 784)\n",
      "(?, 10)\n"
     ]
    }
   ],
   "source": [
    "print(XX.shape)\n",
    "print(Y_.shape)"
   ]
  },
  {
   "cell_type": "code",
   "execution_count": null,
   "metadata": {},
   "outputs": [],
   "source": [
    "# A variable maintains state in the graph across calls to run()\n",
    "# Create a variable.\n",
    "# w = tf.Variable(<initial-value>, name=<optional-name>, shape=<optional-shape>)\n",
    "\n",
    "# Truncated normal Outputs random values from a truncated normal distribution.\n",
    "#\n",
    "# tf.random.truncated_normal(shape, mean=0.0, stddev=1.0, dtype=tf.dtypes.float32, seed=None, name=None)\n"
   ]
  },
  {
   "cell_type": "code",
   "execution_count": 9,
   "metadata": {},
   "outputs": [],
   "source": [
    "# Create the weights vector\n",
    "W1 = tf.Variable(tf.truncated_normal([784, N1], stddev=0.1))\n",
    "# Create the bias term\n",
    "B1 = tf.Variable(tf.zeros([N1])) "
   ]
  },
  {
   "cell_type": "code",
   "execution_count": 10,
   "metadata": {},
   "outputs": [],
   "source": [
    "Y1 = tf.nn.sigmoid(tf.matmul(XX, W1) + B1)"
   ]
  },
  {
   "cell_type": "code",
   "execution_count": 11,
   "metadata": {},
   "outputs": [],
   "source": [
    "W2 = tf.Variable(tf.truncated_normal([N1, N2], stddev=0.1)) \n",
    "B2 = tf.Variable(tf.ones([N2])) "
   ]
  },
  {
   "cell_type": "code",
   "execution_count": 12,
   "metadata": {},
   "outputs": [],
   "source": [
    "Y2 = tf.nn.sigmoid(tf.matmul(Y1, W2) + B2)"
   ]
  },
  {
   "cell_type": "code",
   "execution_count": 13,
   "metadata": {},
   "outputs": [],
   "source": [
    "W3 = tf.Variable(tf.truncated_normal([N2, N3], stddev=0.1))\n",
    "B3 = tf.Variable(tf.ones([N3]))"
   ]
  },
  {
   "cell_type": "code",
   "execution_count": 14,
   "metadata": {},
   "outputs": [],
   "source": [
    "Y3 = tf.nn.sigmoid(tf.matmul(Y2, W3) + B3) "
   ]
  },
  {
   "cell_type": "code",
   "execution_count": 15,
   "metadata": {},
   "outputs": [],
   "source": [
    "W4 = tf.Variable(tf.truncated_normal([N3, N4], stddev=0.1))\n",
    "B4 = tf.Variable(tf.ones([N4])) "
   ]
  },
  {
   "cell_type": "code",
   "execution_count": 16,
   "metadata": {},
   "outputs": [],
   "source": [
    "Y4 = tf.nn.sigmoid(tf.matmul(Y3, W4) + B4)"
   ]
  },
  {
   "cell_type": "code",
   "execution_count": 17,
   "metadata": {},
   "outputs": [],
   "source": [
    "W5 = tf.Variable(tf.truncated_normal([N4, N5], stddev=0.1)) \n",
    "B5 = tf.Variable(tf.ones([N5])) \n",
    "Ylogits = tf.matmul(Y4, W5) + B5\n",
    "Y = tf.nn.softmax(Ylogits)"
   ]
  },
  {
   "cell_type": "code",
   "execution_count": 18,
   "metadata": {},
   "outputs": [],
   "source": [
    "cross_entropy = tf.nn.softmax_cross_entropy_with_logits_v2(logits=Ylogits, labels=Y_)\n",
    "cost_op = tf.reduce_mean(cross_entropy)*100"
   ]
  },
  {
   "cell_type": "code",
   "execution_count": 19,
   "metadata": {},
   "outputs": [],
   "source": [
    "correct_prediction = tf.equal(tf.argmax(Y, 1), tf.argmax(Y_, 1))\n",
    "accuracy = tf.reduce_mean(tf.cast(correct_prediction, tf.float32))"
   ]
  },
  {
   "cell_type": "code",
   "execution_count": 20,
   "metadata": {},
   "outputs": [],
   "source": [
    "# Optimization op (backprop)\n",
    "train_op = tf.train.AdamOptimizer(learning_rate).minimize(cost_op)"
   ]
  },
  {
   "cell_type": "code",
   "execution_count": 21,
   "metadata": {},
   "outputs": [],
   "source": [
    "# Create a summary to monitor cost tensor\n",
    "tf.summary.scalar(\"cost\", cost_op)\n",
    "# Create a summary to monitor accuracy tensor\n",
    "tf.summary.scalar(\"accuracy\", accuracy)\n",
    "# Merge all summaries into a single op\n",
    "summary_op = tf.summary.merge_all()"
   ]
  },
  {
   "cell_type": "code",
   "execution_count": 22,
   "metadata": {},
   "outputs": [],
   "source": [
    "init_op = tf.global_variables_initializer()"
   ]
  },
  {
   "cell_type": "code",
   "execution_count": 25,
   "metadata": {},
   "outputs": [
    {
     "name": "stdout",
     "output_type": "stream",
     "text": [
      "Epoch:  1 cost= 73.44\n",
      "Epoch:  0\n",
      "Epoch:  2 cost= 116.14\n",
      "Epoch:  1\n",
      "Epoch:  3 cost= 154.86\n",
      "Epoch:  2\n",
      "Epoch:  4 cost= 189.22\n",
      "Epoch:  3\n",
      "Epoch:  5 cost= 221.13\n",
      "Epoch:  4\n",
      "Epoch:  6 cost= 250.18\n",
      "Epoch:  5\n",
      "Epoch:  7 cost= 279.54\n",
      "Epoch:  6\n",
      "Epoch:  8 cost= 308.09\n",
      "Epoch:  7\n",
      "Epoch:  9 cost= 334.85\n",
      "Epoch:  8\n",
      "Epoch: 10 cost= 360.97\n",
      "Epoch:  9\n",
      "Epoch: 11 cost= 385.55\n",
      "Epoch:  10\n",
      "Epoch: 12 cost= 409.32\n",
      "Epoch:  11\n",
      "Epoch: 13 cost= 432.46\n",
      "Epoch:  12\n",
      "Epoch: 14 cost= 454.98\n",
      "Epoch:  13\n",
      "Epoch: 15 cost= 476.86\n",
      "Epoch:  14\n",
      "Epoch: 16 cost= 498.66\n",
      "Epoch:  15\n",
      "Epoch: 17 cost= 518.75\n",
      "Epoch:  16\n",
      "Epoch: 18 cost= 537.17\n",
      "Epoch:  17\n",
      "Epoch: 19 cost= 556.33\n",
      "Epoch:  18\n",
      "Epoch: 20 cost= 575.09\n",
      "Epoch:  19\n",
      "Optimization Finished!\n",
      "Accuracy:  0.9416\n"
     ]
    }
   ],
   "source": [
    "with tf.Session() as sess:\n",
    "    # Run the initializer\n",
    "    sess.run(init_op)\n",
    "    avg_cost = 0.\n",
    "    # op to write logs to TensorBoard\n",
    "    writer = tf.summary.FileWriter(logs_path, graph=tf.get_default_graph())\n",
    "    yM_train = np.zeros(shape=(len(y_train), 10), dtype=float)\n",
    "    for i in range(len(y_train)):\n",
    "        yM_train[i, y_train[i]] = 1\n",
    "    yM_test = np.zeros(shape=(len(y_test), 10), dtype=float)\n",
    "    for i in range(len(y_test)):\n",
    "        yM_test[i, y_test[i]] = 1\n",
    "    for epoch in range(training_epochs):\n",
    "        batch_count = int(len(y_train)/batch_size)\n",
    "        for i in range(batch_count):\n",
    "            start_row = i*batch_size\n",
    "            end_row_plus_one = (i+1)*batch_size\n",
    "            max_learning_rate = 0.003\n",
    "            min_learning_rate = 0.0001\n",
    "            decay_speed = 2000 \n",
    "            batch_x, batch_y = x_train[start_row:end_row_plus_one, :], yM_train[start_row:end_row_plus_one,:]\n",
    "\n",
    "            learning_rate = min_learning_rate+\\\n",
    "                            (max_learning_rate - min_learning_rate)\\\n",
    "                            * math.exp(-i/decay_speed)\n",
    "            _, c,summary = sess.run([train_op, cost_op, summary_op], feed_dict={X: batch_x, Y_: batch_y, lr: learning_rate})\n",
    "            avg_cost += c / batch_count\n",
    "            writer.add_summary(summary, epoch * batch_count + i)\n",
    "        if (epoch+1) % display_epoch == 0:\n",
    "            print(\"Epoch:\", '%2d' % (epoch+1), \"cost=\", \"{:.2f}\".format(avg_cost))   \n",
    "        print(\"Epoch: \", epoch)\n",
    "    print(\"Optimization Finished!\")\n",
    "           \n",
    "    print(\"Accuracy: \", accuracy.eval(feed_dict={X: x_test, Y_: yM_test}))"
   ]
  },
  {
   "cell_type": "code",
   "execution_count": 26,
   "metadata": {},
   "outputs": [
    {
     "name": "stdout",
     "output_type": "stream",
     "text": [
      "[0. 1. 0. 0. 0. 0. 0. 0. 0. 0.]\n",
      "1\n"
     ]
    }
   ],
   "source": [
    "index=5\n",
    "print(yM_test[index,:])\n",
    "print(y_test[index])"
   ]
  },
  {
   "cell_type": "code",
   "execution_count": null,
   "metadata": {},
   "outputs": [],
   "source": []
  }
 ],
 "metadata": {
  "kernelspec": {
   "display_name": "Python 3",
   "language": "python",
   "name": "python3"
  },
  "language_info": {
   "codemirror_mode": {
    "name": "ipython",
    "version": 3
   },
   "file_extension": ".py",
   "mimetype": "text/x-python",
   "name": "python",
   "nbconvert_exporter": "python",
   "pygments_lexer": "ipython3",
   "version": "3.6.6"
  }
 },
 "nbformat": 4,
 "nbformat_minor": 2
}
